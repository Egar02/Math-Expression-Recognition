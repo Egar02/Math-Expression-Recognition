{
 "cells": [
  {
   "cell_type": "code",
   "execution_count": 1,
   "id": "4d801906",
   "metadata": {},
   "outputs": [],
   "source": [
    "import torch\n",
    "import torch.nn as nn\n",
    "import torch.optim as optim\n",
    "import torch.nn.functional as F\n",
    "from torch.utils.data import DataLoader, Dataset\n",
    "import numpy as np"
   ]
  },
  {
   "cell_type": "code",
   "execution_count": 2,
   "id": "70f1a679",
   "metadata": {},
   "outputs": [],
   "source": [
    "def preprocess_image(image):\n",
    "    # Преобразуем изображение в черно-белое\n",
    "    image = image.convert('L')\n",
    "    \n",
    "    # Преобразуем в numpy-массив\n",
    "    image = np.array(image)\n",
    "    \n",
    "    # Нормализуем изображение\n",
    "    image = image / 255.0  # нормализация в диапазоне [0, 1]\n",
    "    \n",
    "    # Добавляем случайные отступы\n",
    "    padded_image = np.pad(image, pad_width=10, mode='constant', constant_values=0)\n",
    "    \n",
    "    # Возвращаем изображение в виде тензора PyTorch\n",
    "    return torch.tensor(padded_image, dtype=torch.float).unsqueeze(0)  # (1, H, W)\n"
   ]
  },
  {
   "cell_type": "code",
   "execution_count": 3,
   "id": "13f4f983",
   "metadata": {},
   "outputs": [],
   "source": [
    "class CNNEncoder(nn.Module):\n",
    "    def __init__(self):\n",
    "        super(CNNEncoder, self).__init__()\n",
    "        self.conv1 = nn.Conv2d(1, 64, kernel_size=3, padding=1)  # Входное изображение\n",
    "        self.conv2 = nn.Conv2d(64, 128, kernel_size=3, padding=1)\n",
    "        self.conv3 = nn.Conv2d(128, 256, kernel_size=3, padding=1)\n",
    "        self.pool = nn.MaxPool2d(2, 2)  # Пуллинг для уменьшения размерности\n",
    "\n",
    "    def forward(self, x):\n",
    "        x = F.relu(self.conv1(x))\n",
    "        x = self.pool(x)\n",
    "        x = F.relu(self.conv2(x))\n",
    "        x = self.pool(x)\n",
    "        x = F.relu(self.conv3(x))\n",
    "        x = self.pool(x)  # Снижение размерности\n",
    "        return x"
   ]
  },
  {
   "cell_type": "code",
   "execution_count": 11,
   "id": "920bc47f",
   "metadata": {},
   "outputs": [],
   "source": [
    "class PositionalEmbedding(nn.Module):\n",
    "    def __init__(self, d_model, max_len=512):\n",
    "        super(PositionalEmbedding, self).__init__()\n",
    "        self.encoding = torch.zeros(max_len, d_model, 16, 16)\n",
    "        position = torch.arange(0, max_len, dtype=torch.float).unsqueeze(1)\n",
    "        div_term = torch.exp(torch.arange(0, d_model, 2).float() * -(np.log(10000.0) / d_model))\n",
    "        self.encoding[:, 0::2] = torch.sin(position * div_term)\n",
    "        self.encoding[:, 1::2] = torch.cos(position * div_term)\n",
    "        \n",
    "    def forward(self, x):\n",
    "        a = self.encoding[:x.size(0), :]\n",
    "        return x + self.encoding[:x.size(0), :]"
   ]
  },
  {
   "cell_type": "code",
   "execution_count": 5,
   "id": "8d697458",
   "metadata": {},
   "outputs": [],
   "source": [
    "class Attention(nn.Module):\n",
    "    def __init__(self, hidden_size):\n",
    "        super(Attention, self).__init__()\n",
    "        self.W = nn.Parameter(torch.randn(hidden_size, hidden_size))\n",
    "        self.b = nn.Parameter(torch.randn(hidden_size))\n",
    "\n",
    "    def forward(self, encoder_output, decoder_input):\n",
    "        # Вычисляем внимание\n",
    "        score = torch.matmul(decoder_input, self.W)\n",
    "        score = torch.matmul(score, encoder_output.transpose(1, 2))  # Вектор внимания\n",
    "        attention_weights = torch.softmax(score, dim=-1)\n",
    "        context_vector = torch.matmul(attention_weights, encoder_output)  # Получаем контекстный вектор\n",
    "        return context_vector, attention_weights\n",
    "\n",
    "class DecoderLSTM(nn.Module):\n",
    "    def __init__(self, input_dim, hidden_dim, output_dim):\n",
    "        super(DecoderLSTM, self).__init__()\n",
    "        self.lstm = nn.LSTM(input_dim, hidden_dim, batch_first=True)\n",
    "        self.attention = Attention(hidden_dim)\n",
    "        self.fc_out = nn.Linear(hidden_dim, output_dim)\n",
    "\n",
    "    def forward(self, encoder_output, decoder_input):\n",
    "        # Применение внимания\n",
    "        context_vector, _ = self.attention(encoder_output, decoder_input)\n",
    "        lstm_out, _ = self.lstm(context_vector)\n",
    "        output = self.fc_out(lstm_out)\n",
    "        return output"
   ]
  },
  {
   "cell_type": "code",
   "execution_count": 6,
   "id": "ce854929",
   "metadata": {},
   "outputs": [],
   "source": [
    "class MERModel(nn.Module):\n",
    "    def __init__(self, input_dim, hidden_dim, output_dim):\n",
    "        super(MERModel, self).__init__()\n",
    "        self.encoder = CNNEncoder()\n",
    "        self.positional_embedding = PositionalEmbedding(d_model=256)\n",
    "        self.decoder = DecoderLSTM(input_dim=256, hidden_dim=hidden_dim, output_dim=output_dim)\n",
    "\n",
    "    def forward(self, x):\n",
    "        # Шаг 1: Обработка изображения\n",
    "        x = self.encoder(x)\n",
    "        \n",
    "        # Шаг 2: Добавление позиционных встраиваний\n",
    "        x = self.positional_embedding(x)\n",
    "        \n",
    "        # Шаг 3: Генерация выходной последовательности\n",
    "        x = self.decoder(x, x)\n",
    "        \n",
    "        return x"
   ]
  },
  {
   "cell_type": "code",
   "execution_count": 12,
   "id": "17eaee3e",
   "metadata": {},
   "outputs": [
    {
     "ename": "RuntimeError",
     "evalue": "The expanded size of the tensor (16) must match the existing size (128) at non-singleton dimension 3.  Target sizes: [512, 128, 16, 16].  Tensor sizes: [512, 128]",
     "output_type": "error",
     "traceback": [
      "\u001b[1;31m---------------------------------------------------------------------------\u001b[0m",
      "\u001b[1;31mRuntimeError\u001b[0m                              Traceback (most recent call last)",
      "Cell \u001b[1;32mIn[12], line 7\u001b[0m\n\u001b[0;32m      4\u001b[0m output_dim \u001b[38;5;241m=\u001b[39m \u001b[38;5;241m50\u001b[39m  \u001b[38;5;66;03m# Количество символов в выходной строке\u001b[39;00m\n\u001b[0;32m      6\u001b[0m \u001b[38;5;66;03m# Инициализация модели\u001b[39;00m\n\u001b[1;32m----> 7\u001b[0m model \u001b[38;5;241m=\u001b[39m MERModel(input_dim, hidden_dim, output_dim)\n\u001b[0;32m      9\u001b[0m \u001b[38;5;66;03m# Определение потерь и оптимизатора\u001b[39;00m\n\u001b[0;32m     10\u001b[0m criterion \u001b[38;5;241m=\u001b[39m nn\u001b[38;5;241m.\u001b[39mCrossEntropyLoss()\n",
      "Cell \u001b[1;32mIn[6], line 5\u001b[0m, in \u001b[0;36mMERModel.__init__\u001b[1;34m(self, input_dim, hidden_dim, output_dim)\u001b[0m\n\u001b[0;32m      3\u001b[0m \u001b[38;5;28msuper\u001b[39m(MERModel, \u001b[38;5;28mself\u001b[39m)\u001b[38;5;241m.\u001b[39m\u001b[38;5;21m__init__\u001b[39m()\n\u001b[0;32m      4\u001b[0m \u001b[38;5;28mself\u001b[39m\u001b[38;5;241m.\u001b[39mencoder \u001b[38;5;241m=\u001b[39m CNNEncoder()\n\u001b[1;32m----> 5\u001b[0m \u001b[38;5;28mself\u001b[39m\u001b[38;5;241m.\u001b[39mpositional_embedding \u001b[38;5;241m=\u001b[39m PositionalEmbedding(d_model\u001b[38;5;241m=\u001b[39m\u001b[38;5;241m256\u001b[39m)\n\u001b[0;32m      6\u001b[0m \u001b[38;5;28mself\u001b[39m\u001b[38;5;241m.\u001b[39mdecoder \u001b[38;5;241m=\u001b[39m DecoderLSTM(input_dim\u001b[38;5;241m=\u001b[39m\u001b[38;5;241m256\u001b[39m, hidden_dim\u001b[38;5;241m=\u001b[39mhidden_dim, output_dim\u001b[38;5;241m=\u001b[39moutput_dim)\n",
      "Cell \u001b[1;32mIn[11], line 7\u001b[0m, in \u001b[0;36mPositionalEmbedding.__init__\u001b[1;34m(self, d_model, max_len)\u001b[0m\n\u001b[0;32m      5\u001b[0m position \u001b[38;5;241m=\u001b[39m torch\u001b[38;5;241m.\u001b[39marange(\u001b[38;5;241m0\u001b[39m, max_len, dtype\u001b[38;5;241m=\u001b[39mtorch\u001b[38;5;241m.\u001b[39mfloat)\u001b[38;5;241m.\u001b[39munsqueeze(\u001b[38;5;241m1\u001b[39m)\n\u001b[0;32m      6\u001b[0m div_term \u001b[38;5;241m=\u001b[39m torch\u001b[38;5;241m.\u001b[39mexp(torch\u001b[38;5;241m.\u001b[39marange(\u001b[38;5;241m0\u001b[39m, d_model, \u001b[38;5;241m2\u001b[39m)\u001b[38;5;241m.\u001b[39mfloat() \u001b[38;5;241m*\u001b[39m \u001b[38;5;241m-\u001b[39m(np\u001b[38;5;241m.\u001b[39mlog(\u001b[38;5;241m10000.0\u001b[39m) \u001b[38;5;241m/\u001b[39m d_model))\n\u001b[1;32m----> 7\u001b[0m \u001b[38;5;28mself\u001b[39m\u001b[38;5;241m.\u001b[39mencoding[:, \u001b[38;5;241m0\u001b[39m::\u001b[38;5;241m2\u001b[39m] \u001b[38;5;241m=\u001b[39m torch\u001b[38;5;241m.\u001b[39msin(position \u001b[38;5;241m*\u001b[39m div_term)\n\u001b[0;32m      8\u001b[0m \u001b[38;5;28mself\u001b[39m\u001b[38;5;241m.\u001b[39mencoding[:, \u001b[38;5;241m1\u001b[39m::\u001b[38;5;241m2\u001b[39m] \u001b[38;5;241m=\u001b[39m torch\u001b[38;5;241m.\u001b[39mcos(position \u001b[38;5;241m*\u001b[39m div_term)\n",
      "\u001b[1;31mRuntimeError\u001b[0m: The expanded size of the tensor (16) must match the existing size (128) at non-singleton dimension 3.  Target sizes: [512, 128, 16, 16].  Tensor sizes: [512, 128]"
     ]
    }
   ],
   "source": [
    "# Параметры модели\n",
    "input_dim = 256  # Размерность карты признаков\n",
    "hidden_dim = 512  # Размер скрытого состояния LSTM\n",
    "output_dim = 50  # Количество символов в выходной строке\n",
    "\n",
    "# Инициализация модели\n",
    "model = MERModel(input_dim, hidden_dim, output_dim)\n",
    "\n",
    "# Определение потерь и оптимизатора\n",
    "criterion = nn.CrossEntropyLoss()\n",
    "optimizer = optim.Adam(model.parameters(), lr=0.001)\n",
    "\n",
    "# Пример данных\n",
    "sample_image = torch.rand(1, 1, 128, 128)  # Случайное изображение для примера\n",
    "\n",
    "# Обучение\n",
    "model.train()\n",
    "for epoch in range(10):\n",
    "    optimizer.zero_grad()\n",
    "    output = model(sample_image)\n",
    "    loss = criterion(output.view(-1, output_dim), torch.randint(0, output_dim, (1, 50)).view(-1))\n",
    "    loss.backward()\n",
    "    optimizer.step()\n",
    "    print(f'Epoch {epoch+1}, Loss: {loss.item()}')\n"
   ]
  },
  {
   "cell_type": "code",
   "execution_count": null,
   "id": "003ccafd",
   "metadata": {},
   "outputs": [],
   "source": []
  }
 ],
 "metadata": {
  "kernelspec": {
   "display_name": "DL_env",
   "language": "python",
   "name": "python3"
  },
  "language_info": {
   "codemirror_mode": {
    "name": "ipython",
    "version": 3
   },
   "file_extension": ".py",
   "mimetype": "text/x-python",
   "name": "python",
   "nbconvert_exporter": "python",
   "pygments_lexer": "ipython3",
   "version": "3.11.9"
  }
 },
 "nbformat": 4,
 "nbformat_minor": 5
}
